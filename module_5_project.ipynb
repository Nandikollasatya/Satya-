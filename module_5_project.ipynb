{
  "nbformat": 4,
  "nbformat_minor": 0,
  "metadata": {
    "colab": {
      "provenance": [],
      "include_colab_link": true
    },
    "kernelspec": {
      "name": "python3",
      "display_name": "Python 3"
    },
    "language_info": {
      "name": "python"
    }
  },
  "cells": [
    {
      "cell_type": "markdown",
      "metadata": {
        "id": "view-in-github",
        "colab_type": "text"
      },
      "source": [
        "<a href=\"https://colab.research.google.com/github/Nandikollasatya/Satya-/blob/main/module_5_project.ipynb\" target=\"_parent\"><img src=\"https://colab.research.google.com/assets/colab-badge.svg\" alt=\"Open In Colab\"/></a>"
      ]
    },
    {
      "cell_type": "code",
      "execution_count": null,
      "metadata": {
        "colab": {
          "base_uri": "https://localhost:8080/"
        },
        "id": "UyjeBK7XKs6J",
        "outputId": "b1ff9ffa-117b-483d-9587-af2d462c6c33"
      },
      "outputs": [
        {
          "output_type": "stream",
          "name": "stdout",
          "text": [
            "Cloning into 'counting-fingers-classical'...\n",
            "remote: Enumerating objects: 24, done.\u001b[K\n",
            "remote: Counting objects: 100% (24/24), done.\u001b[K\n",
            "remote: Compressing objects: 100% (19/19), done.\u001b[K\n",
            "remote: Total 24 (delta 5), reused 23 (delta 4), pack-reused 0 (from 0)\u001b[K\n",
            "Receiving objects: 100% (24/24), 2.21 MiB | 4.17 MiB/s, done.\n",
            "Resolving deltas: 100% (5/5), done.\n"
          ]
        }
      ],
      "source": [
        "!git clone https://github.com/Bhuvanesh09/counting-fingers-classical"
      ]
    },
    {
      "cell_type": "code",
      "source": [
        "import pickle\n",
        "from tqdm import tqdm"
      ],
      "metadata": {
        "id": "XbsbmYMNLtKi"
      },
      "execution_count": null,
      "outputs": []
    },
    {
      "cell_type": "code",
      "source": [
        "with open(\"./counting-fingers-classical/data/fingerDataSet.pickle\", \"rb\") as infile:\n",
        "    dat = pickle.load(infile, encoding=\"bytes\")"
      ],
      "metadata": {
        "id": "XaHSzFloL686"
      },
      "execution_count": null,
      "outputs": []
    },
    {
      "cell_type": "code",
      "source": [
        "import numpy as np\n",
        "from PIL import Image, ImageDraw\n",
        "from IPython.display import display\n",
        "import matplotlib.pyplot as plt\n",
        "from matplotlib.pyplot import imshow"
      ],
      "metadata": {
        "id": "ZmKv91vXMKQ6"
      },
      "execution_count": null,
      "outputs": []
    },
    {
      "cell_type": "code",
      "source": [
        "dat[0].keys()"
      ],
      "metadata": {
        "colab": {
          "base_uri": "https://localhost:8080/"
        },
        "id": "XK2QSITBMP9R",
        "outputId": "36537fa5-0eca-4792-b1c5-1c24e224bc92"
      },
      "execution_count": null,
      "outputs": [
        {
          "output_type": "execute_result",
          "data": {
            "text/plain": [
              "dict_keys([b'box', b'boxHeight', b'handPoints', b'trackingIndices', b'allFingerPoints', b'boxWidth', b'image', b'boxEdges', b'croppedImage', b'numFingers', b'numPointsInBox', b'handEdges', b'indexFingerPoints', b'picCount', b'image1bit'])"
            ]
          },
          "metadata": {},
          "execution_count": 5
        }
      ]
    },
    {
      "cell_type": "code",
      "source": [
        "def highlightPoints(img, pts, color = \"yellow\"):\n",
        "    draw = ImageDraw.Draw(img)\n",
        "    for y, x in pts:\n",
        "        draw.point((x, y), fill = color)"
      ],
      "metadata": {
        "id": "LUq6LJ_BMftO"
      },
      "execution_count": null,
      "outputs": []
    },
    {
      "cell_type": "code",
      "source": [
        "imDat = dat[50]\n",
        "for key, item in imDat.items():\n",
        "    try:\n",
        "        print(key, type(item), item.shape)\n",
        "    except:\n",
        "        print(key, type(item), item)"
      ],
      "metadata": {
        "colab": {
          "base_uri": "https://localhost:8080/"
        },
        "id": "Y-AG5B14MjSu",
        "outputId": "827a2ae8-b490-4fcf-b18c-6c75bddcd20b"
      },
      "execution_count": null,
      "outputs": [
        {
          "output_type": "stream",
          "name": "stdout",
          "text": [
            "b'box' <class 'numpy.ndarray'> (202, 2)\n",
            "b'middleFingerPoints' <class 'numpy.ndarray'> (61, 2)\n",
            "b'handPoints' <class 'numpy.ndarray'> (621, 2)\n",
            "b'trackingIndices' <class 'dict'> {b'1': {b'tipIndices': (array([206, 207, 208]), array([183, 183, 183])), b'baseIndices': (array([213, 213, 214, 214, 215]), array([185, 186, 185, 186, 185]))}, b'3': {b'tipIndices': (array([204, 204, 205, 205, 206, 206]), array([200, 201, 200, 201, 200, 201])), b'baseIndices': (array([213, 214, 215]), array([199, 199, 199]))}, b'2': {b'tipIndices': (array([203, 204, 205]), array([192, 192, 192])), b'baseIndices': (array([211, 212, 213]), array([192, 192, 192]))}}\n",
            "b'allFingerPoints' <class 'numpy.ndarray'> (187, 2)\n",
            "b'boxWidth' <class 'numpy.int64'> ()\n",
            "b'image' <class 'numpy.ndarray'> (400, 400)\n",
            "b'boxEdges' <class 'list'> [np.int64(173), np.int64(211), np.int64(192), np.int64(253)]\n",
            "b'croppedImage' <class 'numpy.ndarray'> (61, 38)\n",
            "b'numFingers' <class 'int'> 3\n",
            "b'numPointsInBox' <class 'numpy.int64'> ()\n",
            "b'handEdges' <class 'list'> [np.int64(181), np.int64(203), np.int64(200), np.int64(245)]\n",
            "b'indexFingerPoints' <class 'numpy.ndarray'> (61, 2)\n",
            "b'picCount' <class 'int'> 91\n",
            "b'image1bit' <class 'numpy.ndarray'> (400, 400)\n",
            "b'ringFingerPoints' <class 'numpy.ndarray'> (65, 2)\n",
            "b'boxHeight' <class 'numpy.int64'> ()\n"
          ]
        }
      ]
    },
    {
      "cell_type": "code",
      "source": [
        "imDat = dat[32]\n",
        "img = Image.fromarray(imDat[b'croppedImage'])\n",
        "img = img.convert(mode=\"RGB\")\n",
        "newFingerPoints = [(y - min(imDat[b\"box\"][:,0]), x - min(imDat[b\"box\"][: , 1])) for y, x in imDat[b\"allFingerPoints\"]]\n",
        "# highlightPoints(img, [(173, 211), (192, 253)])\n",
        "highlightPoints(img, newFingerPoints)\n",
        "# highlightPoints(img, imDat[b\"box\"], \"blue\")\n",
        "\n",
        "\n",
        "imshow(img)\n",
        "plt.gcf().set_dpi(70)"
      ],
      "metadata": {
        "colab": {
          "base_uri": "https://localhost:8080/",
          "height": 308
        },
        "id": "a43Hj2FdMnP0",
        "outputId": "a9496697-30e5-47e6-bb46-4a4cd01c0146"
      },
      "execution_count": null,
      "outputs": [
        {
          "output_type": "display_data",
          "data": {
            "text/plain": [
              "<Figure size 448x336 with 1 Axes>"
            ],
            "image/png": "[encoded data removed]"
          },
          "metadata": {}
        }
      ]
    },
    {
      "cell_type": "code",
      "source": [
        "FILTER = 11"
      ],
      "metadata": {
        "id": "YEmOC0LVMrZL"
      },
      "execution_count": null,
      "outputs": []
    },
    {
      "cell_type": "code",
      "source": [
        "class PointDat:\n",
        "    def __init__(self, imgAr, isFinger : bool, coor = None, idx = None):\n",
        "        self.imgAr = imgAr\n",
        "        self.isFinger = isFinger\n",
        "        self.idx = idx\n",
        "        self.coor = coor\n",
        "\n",
        "    def __str__(self):\n",
        "        return \"Coors {} on idx {}\".format(self.coor, self.idx)\n",
        "\n",
        "    def data(self):\n",
        "        return self.imgAr.reshape(-1)\n",
        "\n",
        "    def getPointGrid(self):\n",
        "        return self.imgAr\n",
        "\n",
        "    def getBoolean(self):\n",
        "        return self.isFinger\n",
        "\n",
        "    def getCoors(self):\n",
        "        return self.coor"
      ],
      "metadata": {
        "id": "kVojj0qnMxiC"
      },
      "execution_count": null,
      "outputs": []
    },
    {
      "cell_type": "code",
      "source": [
        "def highlightPoints(img, pts, color = \"yellow\"):\n",
        "    draw = ImageDraw.Draw(img)\n",
        "    for y, x in pts:\n",
        "        draw.point((x, y), fill = color)\n",
        "\n",
        "class ImgDat:\n",
        "    def __init__(self, dat, idx = None):\n",
        "        self.idx = idx\n",
        "        self.fullImage = dat[b\"image\"]\n",
        "        self.box = dat[b\"box\"]\n",
        "        self.topLeft = (int(min(dat[b\"box\"][:, 0])), int(min(dat[b\"box\"][:, 1])))\n",
        "        self.bottomRight = (int(max(dat[b\"box\"][:, 0])), int(max(dat[b\"box\"][:, 1])))\n",
        "\n",
        "        self.bitImage = dat[b\"image1bit\"][self.topLeft[0]:self.bottomRight[0], self.topLeft[1]:self.bottomRight[1]]\n",
        "        self.numFingers = dat[b\"numFingers\"]\n",
        "        self.boundImage = dat[b\"croppedImage\"]\n",
        "\n",
        "        self.fingerPoints = [(p1 - self.topLeft[0], p2 - self.topLeft[1]) for p1, p2 in dat[b\"allFingerPoints\"]]\n",
        "\n",
        "    def showImage(self):\n",
        "        img = Image.fromarray(self.boundImage)\n",
        "        img = img.convert(mode = \"RGB\")\n",
        "        return img\n",
        "\n",
        "    def showFingers(self):\n",
        "        COLS = [\"orange\", \"pink\", \"lime\"]\n",
        "        img = Image.fromarray(self.boundImage)\n",
        "        img = img.convert(mode = \"RGB\")\n",
        "        highlightPoints(img, self.fingerPoints, COLS[self.numFingers - 1])\n",
        "        return img\n",
        "\n",
        "    def showFullImage(self):\n",
        "        img = Image.fromarray(self.fullImage)\n",
        "        img = img.convert(mode = \"RGB\")\n",
        "        highlightPoints(img, self.box, \"yellow\")\n",
        "        return img\n",
        "\n",
        "    def makePointsDataset(self):\n",
        "        F = FILTER//2\n",
        "\n",
        "        collection = []\n",
        "        for r in range(F, self.bitImage.shape[0] - F):\n",
        "            for c in range(F, self.bitImage.shape[1] - F):\n",
        "#                 collection.append([self.bitImage[r-F:r+F, c-F:c+F], (r, c) in self.fingerPoints, (r, c)])\n",
        "                collection.append(PointDat(self.bitImage[r - F : r + F+1, c - F: c + F+1], (r, c) in self.fingerPoints, (r, c),\\\n",
        "                                            self.idx))\n",
        "\n",
        "        return np.array(collection, dtype=object)\n"
      ],
      "metadata": {
        "id": "JtCk9hFSM0E5"
      },
      "execution_count": null,
      "outputs": []
    },
    {
      "cell_type": "code",
      "source": [
        "sampleIndices = [0, 10, 52, 30, 40]\n",
        "fig, axs = plt.subplots(5, 3, figsize=(8, 16), gridspec_kw={'width_ratios': [3, 1, 1]})\n",
        "for r in range(5):\n",
        "    p = ImgDat(dat[sampleIndices[r]], sampleIndices[r])\n",
        "    axs[r][0].imshow(p.showFullImage())\n",
        "    axs[r][1].imshow(p.showImage())\n",
        "    axs[r][2].imshow(p.showFingers())\n",
        "fig.set_dpi(100)"
      ],
      "metadata": {
        "id": "7zEuSsJbM3a-"
      },
      "execution_count": null,
      "outputs": []
    },
    {
      "cell_type": "code",
      "source": [
        "p = ImgDat(dat[52], 52)\n",
        "d = p.makePointsDataset()"
      ],
      "metadata": {
        "id": "ej3ZFtXCM8bm"
      },
      "execution_count": null,
      "outputs": []
    },
    {
      "cell_type": "code",
      "source": [
        "posPoints = [point for point in d if point.getBoolean()]\n",
        "negPoints = [point for point in d if not point.getBoolean()]"
      ],
      "metadata": {
        "id": "E-XiDouRM_V2"
      },
      "execution_count": null,
      "outputs": []
    },
    {
      "cell_type": "code",
      "source": [
        "np.random.seed(0)\n",
        "fig, axs = plt.subplots(3, 5, figsize=(15, 9))\n",
        "for ax in axs:\n",
        "    for a in ax:\n",
        "        point = np.random.choice(posPoints)\n",
        "        a.imshow(point.getPointGrid())\n",
        "        a.title.set_text(str(point))\n",
        "        a.set_xticks([FILTER//2])\n",
        "        a.set_yticks([FILTER//2])"
      ],
      "metadata": {
        "id": "07pouN67NCZM"
      },
      "execution_count": null,
      "outputs": []
    },
    {
      "cell_type": "code",
      "source": [
        "np.random.seed(0)\n",
        "fig, axs = plt.subplots(3, 5, figsize=(15, 9))\n",
        "for ax in axs:\n",
        "    for a in ax:\n",
        "        point = np.random.choice(negPoints)\n",
        "        a.imshow(point.getPointGrid())\n",
        "        a.title.set_text(str(point))\n",
        "        a.set_xticks([FILTER//2])\n",
        "        a.set_yticks([FILTER//2])"
      ],
      "metadata": {
        "id": "aXg7FP86NFRJ"
      },
      "execution_count": null,
      "outputs": []
    },
    {
      "cell_type": "code",
      "source": [
        "def singleton(cls, *args, **kw):\n",
        "    instances = {}\n",
        "    def _singleton(*args, **kw):\n",
        "        if cls not in instances:\n",
        "            instances[cls] = cls(*args, **kw)\n",
        "        return instances[cls]\n",
        "    return _singleton\n",
        "\n",
        "@singleton\n",
        "class fingersFromPoints:\n",
        "\n",
        "    def findAdjacent(self, coordinates, coordinate, cluster):\n",
        "        distances = np.sqrt(np.sum((coordinates-coordinate)**2,1))\n",
        "        newCoordIndices = np.where(np.logical_and(distances<1.3, distances >0))[0]\n",
        "\n",
        "        for newCoordIndex in newCoordIndices:\n",
        "            if newCoordIndex not in cluster:\n",
        "                cluster.append(newCoordIndex)\n",
        "                self.findAdjacent(coordinates, coordinates[newCoordIndex, :], cluster)\n",
        "\n",
        "    def findClusters(self, coordinates):\n",
        "        allIndices = np.arange(len(coordinates))\n",
        "        clusters = []\n",
        "\n",
        "        while len(allIndices) > 0:\n",
        "\n",
        "            cluster = [allIndices[0]]\n",
        "            self.findAdjacent(coordinates, coordinates[allIndices[0],:], cluster)\n",
        "            allIndices = np.setdiff1d(allIndices, np.array((cluster)))\n",
        "            clusters.append(cluster)\n",
        "\n",
        "        return clusters\n",
        "\n",
        "    def findClusterCoors(self, coors):\n",
        "\n",
        "        clusters = self.findClusters(coors)\n",
        "        newClus = []\n",
        "        for c in clusters:\n",
        "            temp = []\n",
        "            for idx in c:\n",
        "                temp.append(coors[idx])\n",
        "            newClus.append(temp)\n",
        "        return newClus\n",
        "\n",
        "    def countFingers(self, clusters, minFingerSize = 15, fingerCutoff = 0.5):\n",
        "        sizes = []\n",
        "        for cluster in clusters:\n",
        "            sizes.append(len(cluster))\n",
        "\n",
        "        sizes = np.array(sizes)\n",
        "\n",
        "        if len(sizes) > 0:\n",
        "            if np.max(sizes) > minFingerSize:\n",
        "                fingerCluster = np.argmax(sizes)\n",
        "                numFingers = sum(sizes>fingerCutoff*sizes[fingerCluster])\n",
        "            else:\n",
        "                numFingers = 0\n",
        "        else:\n",
        "            numFingers = 0\n",
        "\n",
        "        return numFingers\n",
        "\n",
        "    def predictNumFingers(self, coors):\n",
        "        newCoors = np.array(coors)\n",
        "        clusters = self.findClusters(newCoors)\n",
        "        #print(clusters)\n",
        "        return self.countFingers(clusters)\n"
      ],
      "metadata": {
        "id": "mKae7pA7NJK7"
      },
      "execution_count": null,
      "outputs": []
    },
    {
      "cell_type": "code",
      "source": [
        "predObj = fingersFromPoints()\n",
        "\n",
        "imgObj = ImgDat(dat[52], 52)\n",
        "\n",
        "assert imgObj.numFingers == predObj.predictNumFingers(imgObj.fingerPoints), \"Clustering has failed for the dataimage \\\n",
        "with index {}. Something is wrong! {} is being predicted instead of {})\".format(imgObj.idx, predObj.predictNumFingers(imgObj.fingerPoints),\\\n",
        "                                                                               imgObj.numFingers)"
      ],
      "metadata": {
        "id": "S-6SpEzKNQnN"
      },
      "execution_count": null,
      "outputs": []
    },
    {
      "cell_type": "code",
      "source": [
        "cor, tot = 0, 0\n",
        "incor = []\n",
        "for idx, d in enumerate(dat):\n",
        "    imgObj = ImgDat(d, idx)\n",
        "    if imgObj.numFingers == predObj.predictNumFingers(imgObj.fingerPoints):\n",
        "        cor += 1\n",
        "    else:\n",
        "        incor.append(imgObj)\n",
        "    tot += 1\n",
        "\n",
        "print(\"The Clustering is correct for: {:.2f} % of the datapoints' ground truth\".format(cor * 100 / tot))"
      ],
      "metadata": {
        "id": "m90oPcH1NVPU"
      },
      "execution_count": null,
      "outputs": []
    },
    {
      "cell_type": "code",
      "source": [
        "print(len(incor))"
      ],
      "metadata": {
        "id": "gsml5QHcNYi2"
      },
      "execution_count": null,
      "outputs": []
    },
    {
      "cell_type": "code",
      "source": [
        "fig, axs = plt.subplots(2, 3, figsize = (12, 10))\n",
        "incorIndices = []\n",
        "for idx, (ax, imObj) in enumerate(zip(axs, incor)):\n",
        "    print(\"Incorrect for {}\".format(imObj.idx))\n",
        "    incorIndices.append(imObj.idx)\n",
        "    ax[0].imshow(imObj.showImage())\n",
        "    ax[1].imshow(imObj.showFingers())\n",
        "    img = imObj.showImage()\n",
        "    clusters = predObj.findClusterCoors(np.array(imObj.fingerPoints))\n",
        "    COLS = [\"green\", \"red\", \"blue\", \"yello\", \"orange\", \"pink\"]\n",
        "    for idx2, c in enumerate(clusters):\n",
        "        highlightPoints(img, c, COLS[idx2])\n",
        "    ax[2].imshow(img)"
      ],
      "metadata": {
        "id": "9qmD1mCHNbwW"
      },
      "execution_count": null,
      "outputs": []
    },
    {
      "cell_type": "code",
      "source": [
        "allImg = [ImgDat(d, idx) for idx, d in enumerate(dat)]"
      ],
      "metadata": {
        "id": "7pKVEoWYNeS1"
      },
      "execution_count": null,
      "outputs": []
    },
    {
      "cell_type": "code",
      "source": [
        "from sklearn.model_selection import train_test_split"
      ],
      "metadata": {
        "id": "Z9CbVI7uNhmv"
      },
      "execution_count": null,
      "outputs": []
    },
    {
      "cell_type": "code",
      "source": [
        "trainImg, testImg = train_test_split(allImg, test_size = 10, train_size = 44, random_state = 0)"
      ],
      "metadata": {
        "id": "okvogvh7Nkpa"
      },
      "execution_count": null,
      "outputs": []
    },
    {
      "cell_type": "code",
      "source": [
        "trainPoints = np.array([], dtype=object)\n",
        "for imgObj in tqdm(trainImg):\n",
        "    trainPoints = np.append(trainPoints, imgObj.makePointsDataset())"
      ],
      "metadata": {
        "id": "uy4Q8joqNmrk"
      },
      "execution_count": null,
      "outputs": []
    },
    {
      "cell_type": "code",
      "source": [
        "X_train, y_train = np.array([p.data() for p in trainPoints]), np.array([p.getBoolean() for p in trainPoints])"
      ],
      "metadata": {
        "id": "kZuus8IWNpT3"
      },
      "execution_count": null,
      "outputs": []
    },
    {
      "cell_type": "code",
      "source": [
        "X_train.shape, y_train.shape"
      ],
      "metadata": {
        "id": "OfyaV6nlN1sh"
      },
      "execution_count": null,
      "outputs": []
    },
    {
      "cell_type": "code",
      "source": [
        "from sklearn.tree import DecisionTreeClassifier\n",
        "clf = DecisionTreeClassifier(random_state = 0, max_depth = 3)"
      ],
      "metadata": {
        "id": "kTTJ5O-tN3rN"
      },
      "execution_count": null,
      "outputs": []
    },
    {
      "cell_type": "code",
      "source": [
        "clf.fit(X_train, y_train)"
      ],
      "metadata": {
        "id": "KCCtPSlHN58N"
      },
      "execution_count": null,
      "outputs": []
    },
    {
      "cell_type": "code",
      "source": [
        "#Training Error in terms of points:\n",
        "from sklearn.metrics import accuracy_score\n",
        "print(\"{:.2f} % of the training points classified correctly\".format(100*accuracy_score(clf.predict(X_train), y_train)))"
      ],
      "metadata": {
        "id": "_uFnMt36N8Q9"
      },
      "execution_count": null,
      "outputs": []
    },
    {
      "cell_type": "code",
      "source": [
        "fig, axs = plt.subplots(10, 3, figsize = (9, 50))\n",
        "for idx, imgObj in enumerate(testImg):\n",
        "    testPoints = imgObj.makePointsDataset()\n",
        "    axs[idx][0].imshow(imgObj.showImage())\n",
        "    axs[idx][1].imshow(imgObj.showFingers())\n",
        "\n",
        "    coors = []\n",
        "    for point in testPoints:\n",
        "        if clf.predict([point.data()])[0]:\n",
        "            coors.append(point.getCoors())\n",
        "    clusters = predObj.findClusterCoors(np.array(coors))\n",
        "#     clusters = sorted(clusters, key = lambda c : len(c))\n",
        "#     clusters = clusters[::-1]\n",
        "#     clusters = clusters[:5]\n",
        "    img = imgObj.showImage()\n",
        "    COLS = [\"green\", \"red\", \"blue\", \"yellow\", \"orange\", \"pink\"]\n",
        "    for idx2, c in enumerate(clusters):\n",
        "#         pass\n",
        "        highlightPoints(img, c, COLS[idx2%6])\n",
        "    axs[idx][2].imshow(img)\n",
        "    if predObj.predictNumFingers(coors) == imgObj.numFingers:\n",
        "        print(\"Predicted correctly for idx : {}, the number: {}\".format(imgObj.idx, imgObj.numFingers))\n",
        "    else:\n",
        "        print(\"Predicted incorrectly for idx : {}, the number: {}\".format(imgObj.idx, imgObj.numFingers))\n",
        "#     print(\"Num clusters seen: {}\".format(len(clusters)))\n"
      ],
      "metadata": {
        "id": "uqP-1vTLN_Vp"
      },
      "execution_count": null,
      "outputs": []
    },
    {
      "cell_type": "code",
      "source": [
        "from sklearn import tree"
      ],
      "metadata": {
        "id": "UiEWLXaXOIdI"
      },
      "execution_count": null,
      "outputs": []
    },
    {
      "cell_type": "code",
      "source": [
        "fig, ax = plt.subplots(figsize=(20, 7))\n",
        "imgObj = tree.plot_tree(clf, filled=True, ax=ax, impurity=False, proportion=True, rounded=True, fontsize = 10)\n",
        "plt.show()"
      ],
      "metadata": {
        "id": "uKngjADTOQ6n"
      },
      "execution_count": null,
      "outputs": []
    },
    {
      "cell_type": "code",
      "source": [
        "blank = np.ones((11, 11))\n",
        "img = Image.fromarray(blank)\n",
        "img = img.convert(mode=\"RGB\")\n",
        "\n",
        "imDraw = ImageDraw.Draw(img)\n",
        "imDraw.point((12%11, 12//11), fill = \"red\")\n",
        "imDraw.point((54%11, 54//11), fill = \"red\")\n",
        "imDraw.point((60%11, 60//11), fill = \"green\")\n",
        "plt.imshow(img)"
      ],
      "metadata": {
        "id": "GtNaeE2nORcj"
      },
      "execution_count": null,
      "outputs": []
    }
  ]
}